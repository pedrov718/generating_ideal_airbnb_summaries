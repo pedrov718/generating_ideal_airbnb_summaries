{
 "cells": [
  {
   "cell_type": "code",
   "execution_count": 1,
   "metadata": {},
   "outputs": [],
   "source": [
    "import pandas as pd\n",
    "from googletrans import Translator, constants\n",
    "from pprint import pprint"
   ]
  },
  {
   "cell_type": "code",
   "execution_count": 2,
   "metadata": {
    "collapsed": false,
    "jupyter": {
     "outputs_hidden": false
    }
   },
   "outputs": [],
   "source": [
    "df = pd.read_excel('text_reviews_processed.xlsx')"
   ]
  },
  {
   "cell_type": "code",
   "execution_count": 3,
   "metadata": {
    "collapsed": false,
    "jupyter": {
     "outputs_hidden": false
    }
   },
   "outputs": [
    {
     "data": {
      "text/html": [
       "<div>\n",
       "<style scoped>\n",
       "    .dataframe tbody tr th:only-of-type {\n",
       "        vertical-align: middle;\n",
       "    }\n",
       "\n",
       "    .dataframe tbody tr th {\n",
       "        vertical-align: top;\n",
       "    }\n",
       "\n",
       "    .dataframe thead th {\n",
       "        text-align: right;\n",
       "    }\n",
       "</style>\n",
       "<table border=\"1\" class=\"dataframe\">\n",
       "  <thead>\n",
       "    <tr style=\"text-align: right;\">\n",
       "      <th></th>\n",
       "      <th>Unnamed: 0</th>\n",
       "      <th>listing_id</th>\n",
       "      <th>id</th>\n",
       "      <th>date</th>\n",
       "      <th>reviewer_id</th>\n",
       "      <th>reviewer_name</th>\n",
       "      <th>comments</th>\n",
       "      <th>comments_clean</th>\n",
       "    </tr>\n",
       "  </thead>\n",
       "  <tbody>\n",
       "    <tr>\n",
       "      <th>0</th>\n",
       "      <td>0</td>\n",
       "      <td>2539</td>\n",
       "      <td>55688172</td>\n",
       "      <td>2015-12-04</td>\n",
       "      <td>25160947</td>\n",
       "      <td>Peter</td>\n",
       "      <td>Great host</td>\n",
       "      <td>great host</td>\n",
       "    </tr>\n",
       "    <tr>\n",
       "      <th>1</th>\n",
       "      <td>1</td>\n",
       "      <td>2539</td>\n",
       "      <td>97474898</td>\n",
       "      <td>2016-08-27</td>\n",
       "      <td>91513326</td>\n",
       "      <td>Liz</td>\n",
       "      <td>Nice room for the price. Great neighborhood. J...</td>\n",
       "      <td>nice room price great neighborhood john accomm...</td>\n",
       "    </tr>\n",
       "    <tr>\n",
       "      <th>2</th>\n",
       "      <td>2</td>\n",
       "      <td>2539</td>\n",
       "      <td>105340344</td>\n",
       "      <td>2016-10-01</td>\n",
       "      <td>90022459</td>\n",
       "      <td>Ð•Ð²Ð³ÐµÐ½Ð¸Ð¹</td>\n",
       "      <td>Very nice apt.  New remodeled.</td>\n",
       "      <td>very nice apt new remodel</td>\n",
       "    </tr>\n",
       "    <tr>\n",
       "      <th>3</th>\n",
       "      <td>3</td>\n",
       "      <td>2539</td>\n",
       "      <td>133131670</td>\n",
       "      <td>2017-02-20</td>\n",
       "      <td>116165195</td>\n",
       "      <td>George</td>\n",
       "      <td>Great place to stay for a while. John is a gre...</td>\n",
       "      <td>great place stay john great host great man hou...</td>\n",
       "    </tr>\n",
       "    <tr>\n",
       "      <th>5</th>\n",
       "      <td>5</td>\n",
       "      <td>2539</td>\n",
       "      <td>157777930</td>\n",
       "      <td>2017-06-04</td>\n",
       "      <td>1806142</td>\n",
       "      <td>Isaac</td>\n",
       "      <td>I really enjoyed my time here in deep south Br...</td>\n",
       "      <td>i really enjoyed time deep south brooklyn john...</td>\n",
       "    </tr>\n",
       "    <tr>\n",
       "      <th>...</th>\n",
       "      <td>...</td>\n",
       "      <td>...</td>\n",
       "      <td>...</td>\n",
       "      <td>...</td>\n",
       "      <td>...</td>\n",
       "      <td>...</td>\n",
       "      <td>...</td>\n",
       "      <td>...</td>\n",
       "    </tr>\n",
       "    <tr>\n",
       "      <th>1003</th>\n",
       "      <td>1003</td>\n",
       "      <td>6848</td>\n",
       "      <td>12717</td>\n",
       "      <td>2009-10-07</td>\n",
       "      <td>30985</td>\n",
       "      <td>Eyal</td>\n",
       "      <td>We stayed 3 nights with our two kids (13 and 1...</td>\n",
       "      <td>stay night kid place warm comfort irina allen</td>\n",
       "    </tr>\n",
       "    <tr>\n",
       "      <th>1004</th>\n",
       "      <td>1004</td>\n",
       "      <td>6848</td>\n",
       "      <td>19080</td>\n",
       "      <td>2009-12-04</td>\n",
       "      <td>46832</td>\n",
       "      <td>Stephane</td>\n",
       "      <td>Un appartement Ã  5 minutes du metro et seulem...</td>\n",
       "      <td>un appartement ã minute du metro seulement ã d...</td>\n",
       "    </tr>\n",
       "    <tr>\n",
       "      <th>1005</th>\n",
       "      <td>1005</td>\n",
       "      <td>6848</td>\n",
       "      <td>19286</td>\n",
       "      <td>2009-12-06</td>\n",
       "      <td>44462</td>\n",
       "      <td>Lydia &amp; Jacques</td>\n",
       "      <td>We stayed only a (too) short weekend. It was r...</td>\n",
       "      <td>stay short weekend really nice first experienc...</td>\n",
       "    </tr>\n",
       "    <tr>\n",
       "      <th>1006</th>\n",
       "      <td>1006</td>\n",
       "      <td>6848</td>\n",
       "      <td>23837</td>\n",
       "      <td>2010-01-11</td>\n",
       "      <td>24256</td>\n",
       "      <td>Rachel</td>\n",
       "      <td>Loved the location and the apartment was clean...</td>\n",
       "      <td>love location apartment clean tidy perfect siz...</td>\n",
       "    </tr>\n",
       "    <tr>\n",
       "      <th>1007</th>\n",
       "      <td>1007</td>\n",
       "      <td>6848</td>\n",
       "      <td>26620</td>\n",
       "      <td>2010-02-17</td>\n",
       "      <td>65178</td>\n",
       "      <td>Jeanine</td>\n",
       "      <td>We had a great stay. We accidentally arrived a...</td>\n",
       "      <td>great stay accidentally arrive little early ir...</td>\n",
       "    </tr>\n",
       "  </tbody>\n",
       "</table>\n",
       "<p>1000 rows × 8 columns</p>\n",
       "</div>"
      ],
      "text/plain": [
       "      Unnamed: 0  listing_id         id       date  reviewer_id  \\\n",
       "0              0        2539   55688172 2015-12-04     25160947   \n",
       "1              1        2539   97474898 2016-08-27     91513326   \n",
       "2              2        2539  105340344 2016-10-01     90022459   \n",
       "3              3        2539  133131670 2017-02-20    116165195   \n",
       "5              5        2539  157777930 2017-06-04      1806142   \n",
       "...          ...         ...        ...        ...          ...   \n",
       "1003        1003        6848      12717 2009-10-07        30985   \n",
       "1004        1004        6848      19080 2009-12-04        46832   \n",
       "1005        1005        6848      19286 2009-12-06        44462   \n",
       "1006        1006        6848      23837 2010-01-11        24256   \n",
       "1007        1007        6848      26620 2010-02-17        65178   \n",
       "\n",
       "        reviewer_name                                           comments  \\\n",
       "0               Peter                                        Great host    \n",
       "1                 Liz  Nice room for the price. Great neighborhood. J...   \n",
       "2      Ð•Ð²Ð³ÐµÐ½Ð¸Ð¹                     Very nice apt.  New remodeled.   \n",
       "3              George  Great place to stay for a while. John is a gre...   \n",
       "5               Isaac  I really enjoyed my time here in deep south Br...   \n",
       "...               ...                                                ...   \n",
       "1003             Eyal  We stayed 3 nights with our two kids (13 and 1...   \n",
       "1004         Stephane  Un appartement Ã  5 minutes du metro et seulem...   \n",
       "1005  Lydia & Jacques  We stayed only a (too) short weekend. It was r...   \n",
       "1006           Rachel  Loved the location and the apartment was clean...   \n",
       "1007          Jeanine  We had a great stay. We accidentally arrived a...   \n",
       "\n",
       "                                         comments_clean  \n",
       "0                                            great host  \n",
       "1     nice room price great neighborhood john accomm...  \n",
       "2                             very nice apt new remodel  \n",
       "3     great place stay john great host great man hou...  \n",
       "5     i really enjoyed time deep south brooklyn john...  \n",
       "...                                                 ...  \n",
       "1003      stay night kid place warm comfort irina allen  \n",
       "1004  un appartement ã minute du metro seulement ã d...  \n",
       "1005  stay short weekend really nice first experienc...  \n",
       "1006  love location apartment clean tidy perfect siz...  \n",
       "1007  great stay accidentally arrive little early ir...  \n",
       "\n",
       "[1000 rows x 8 columns]"
      ]
     },
     "execution_count": 3,
     "metadata": {},
     "output_type": "execute_result"
    }
   ],
   "source": [
    "reviews_1000 = df.dropna().head(1000)\n",
    "reviews_1000"
   ]
  },
  {
   "cell_type": "code",
   "execution_count": 16,
   "metadata": {
    "collapsed": false,
    "jupyter": {
     "outputs_hidden": false
    }
   },
   "outputs": [],
   "source": [
    "# init the Google API translator\n",
    "translator = Translator()"
   ]
  },
  {
   "cell_type": "code",
   "execution_count": 17,
   "metadata": {
    "collapsed": false,
    "jupyter": {
     "outputs_hidden": false
    }
   },
   "outputs": [
    {
     "data": {
      "text/plain": [
       "'Hello World'"
      ]
     },
     "execution_count": 17,
     "metadata": {},
     "output_type": "execute_result"
    }
   ],
   "source": [
    "# translate a spanish text to english text (by default)\n",
    "translation = translator.translate(\"Hola Mundo\", src= 'auto',  dest = 'en')\n",
    "\n",
    "translation.text"
   ]
  },
  {
   "cell_type": "code",
   "execution_count": 18,
   "metadata": {
    "collapsed": false,
    "jupyter": {
     "outputs_hidden": false
    }
   },
   "outputs": [
    {
     "name": "stdout",
     "output_type": "stream",
     "text": [
      "Language code: en <class 'str'>\n",
      "Confidence: 1\n"
     ]
    }
   ],
   "source": [
    "# detect a language\n",
    "detection = translator.detect(\"hello\")\n",
    "\n",
    "print(\"Language code:\", detection.lang, type(detection.lang))\n",
    "\n",
    "print(\"Confidence:\", detection.confidence)"
   ]
  },
  {
   "cell_type": "code",
   "execution_count": 19,
   "metadata": {
    "collapsed": false,
    "jupyter": {
     "outputs_hidden": false
    }
   },
   "outputs": [],
   "source": [
    "def is_foreign_lang(text):\n",
    "    translator = Translator()\n",
    "    translator.detect(text)\n",
    "    if detection.lang == 'en':\n",
    "        return False\n",
    "    else:\n",
    "        return True\n",
    "\n",
    "def detect_lang(text):\n",
    "    detection = translator.detect(text)\n",
    "    return(detection.lang)\n",
    "\n",
    "def translate(text):\n",
    "    translation = translator.translate(text, src= 'auto',  dest = 'en')\n",
    "    return translation.text"
   ]
  },
  {
   "cell_type": "code",
   "execution_count": 20,
   "metadata": {
    "collapsed": false,
    "jupyter": {
     "outputs_hidden": false
    }
   },
   "outputs": [
    {
     "data": {
      "text/plain": [
       "False"
      ]
     },
     "execution_count": 20,
     "metadata": {},
     "output_type": "execute_result"
    }
   ],
   "source": [
    "is_foreign_lang('hello')"
   ]
  },
  {
   "cell_type": "code",
   "execution_count": 21,
   "metadata": {
    "collapsed": false,
    "jupyter": {
     "outputs_hidden": false
    }
   },
   "outputs": [
    {
     "data": {
      "text/plain": [
       "0                                                 great host\n",
       "1          nice room price great neighborhood john accomm...\n",
       "2                                  very nice apt new remodel\n",
       "3          great place stay john great host great man hou...\n",
       "4                                                       <NA>\n",
       "                                 ...                        \n",
       "1048570    great stay clean wish front door keep open als...\n",
       "1048571                                          place great\n",
       "1048572                   have great stay clean amenity need\n",
       "1048573    nancy great host communicative responsive apar...\n",
       "1048574                                 amaze host love stay\n",
       "Name: comments_clean, Length: 1048575, dtype: string"
      ]
     },
     "execution_count": 21,
     "metadata": {},
     "output_type": "execute_result"
    }
   ],
   "source": [
    "df['comments_clean'].astype('string')"
   ]
  },
  {
   "cell_type": "code",
   "execution_count": 25,
   "metadata": {
    "collapsed": false,
    "jupyter": {
     "outputs_hidden": false
    }
   },
   "outputs": [
    {
     "name": "stdout",
     "output_type": "stream",
     "text": [
      "Wall time: 1min 45s\n"
     ]
    }
   ],
   "source": [
    "%%time\n",
    "reviews_1000['detected_language'] = df['comments_clean'][:1000].apply(lambda review : detect_lang(review))"
   ]
  },
  {
   "cell_type": "code",
   "execution_count": 26,
   "metadata": {},
   "outputs": [
    {
     "data": {
      "text/html": [
       "<div>\n",
       "<style scoped>\n",
       "    .dataframe tbody tr th:only-of-type {\n",
       "        vertical-align: middle;\n",
       "    }\n",
       "\n",
       "    .dataframe tbody tr th {\n",
       "        vertical-align: top;\n",
       "    }\n",
       "\n",
       "    .dataframe thead th {\n",
       "        text-align: right;\n",
       "    }\n",
       "</style>\n",
       "<table border=\"1\" class=\"dataframe\">\n",
       "  <thead>\n",
       "    <tr style=\"text-align: right;\">\n",
       "      <th></th>\n",
       "      <th>Unnamed: 0</th>\n",
       "      <th>listing_id</th>\n",
       "      <th>id</th>\n",
       "      <th>date</th>\n",
       "      <th>reviewer_id</th>\n",
       "      <th>reviewer_name</th>\n",
       "      <th>comments</th>\n",
       "      <th>comments_clean</th>\n",
       "      <th>detected_language</th>\n",
       "    </tr>\n",
       "  </thead>\n",
       "  <tbody>\n",
       "    <tr>\n",
       "      <th>0</th>\n",
       "      <td>0</td>\n",
       "      <td>2539</td>\n",
       "      <td>55688172</td>\n",
       "      <td>2015-12-04</td>\n",
       "      <td>25160947</td>\n",
       "      <td>Peter</td>\n",
       "      <td>Great host</td>\n",
       "      <td>great host</td>\n",
       "      <td>en</td>\n",
       "    </tr>\n",
       "    <tr>\n",
       "      <th>1</th>\n",
       "      <td>1</td>\n",
       "      <td>2539</td>\n",
       "      <td>97474898</td>\n",
       "      <td>2016-08-27</td>\n",
       "      <td>91513326</td>\n",
       "      <td>Liz</td>\n",
       "      <td>Nice room for the price. Great neighborhood. J...</td>\n",
       "      <td>nice room price great neighborhood john accomm...</td>\n",
       "      <td>en</td>\n",
       "    </tr>\n",
       "    <tr>\n",
       "      <th>2</th>\n",
       "      <td>2</td>\n",
       "      <td>2539</td>\n",
       "      <td>105340344</td>\n",
       "      <td>2016-10-01</td>\n",
       "      <td>90022459</td>\n",
       "      <td>Ð•Ð²Ð³ÐµÐ½Ð¸Ð¹</td>\n",
       "      <td>Very nice apt.  New remodeled.</td>\n",
       "      <td>very nice apt new remodel</td>\n",
       "      <td>en</td>\n",
       "    </tr>\n",
       "    <tr>\n",
       "      <th>3</th>\n",
       "      <td>3</td>\n",
       "      <td>2539</td>\n",
       "      <td>133131670</td>\n",
       "      <td>2017-02-20</td>\n",
       "      <td>116165195</td>\n",
       "      <td>George</td>\n",
       "      <td>Great place to stay for a while. John is a gre...</td>\n",
       "      <td>great place stay john great host great man hou...</td>\n",
       "      <td>en</td>\n",
       "    </tr>\n",
       "    <tr>\n",
       "      <th>5</th>\n",
       "      <td>5</td>\n",
       "      <td>2539</td>\n",
       "      <td>157777930</td>\n",
       "      <td>2017-06-04</td>\n",
       "      <td>1806142</td>\n",
       "      <td>Isaac</td>\n",
       "      <td>I really enjoyed my time here in deep south Br...</td>\n",
       "      <td>i really enjoyed time deep south brooklyn john...</td>\n",
       "      <td>en</td>\n",
       "    </tr>\n",
       "    <tr>\n",
       "      <th>...</th>\n",
       "      <td>...</td>\n",
       "      <td>...</td>\n",
       "      <td>...</td>\n",
       "      <td>...</td>\n",
       "      <td>...</td>\n",
       "      <td>...</td>\n",
       "      <td>...</td>\n",
       "      <td>...</td>\n",
       "      <td>...</td>\n",
       "    </tr>\n",
       "    <tr>\n",
       "      <th>1003</th>\n",
       "      <td>1003</td>\n",
       "      <td>6848</td>\n",
       "      <td>12717</td>\n",
       "      <td>2009-10-07</td>\n",
       "      <td>30985</td>\n",
       "      <td>Eyal</td>\n",
       "      <td>We stayed 3 nights with our two kids (13 and 1...</td>\n",
       "      <td>stay night kid place warm comfort irina allen</td>\n",
       "      <td>NaN</td>\n",
       "    </tr>\n",
       "    <tr>\n",
       "      <th>1004</th>\n",
       "      <td>1004</td>\n",
       "      <td>6848</td>\n",
       "      <td>19080</td>\n",
       "      <td>2009-12-04</td>\n",
       "      <td>46832</td>\n",
       "      <td>Stephane</td>\n",
       "      <td>Un appartement Ã  5 minutes du metro et seulem...</td>\n",
       "      <td>un appartement ã minute du metro seulement ã d...</td>\n",
       "      <td>NaN</td>\n",
       "    </tr>\n",
       "    <tr>\n",
       "      <th>1005</th>\n",
       "      <td>1005</td>\n",
       "      <td>6848</td>\n",
       "      <td>19286</td>\n",
       "      <td>2009-12-06</td>\n",
       "      <td>44462</td>\n",
       "      <td>Lydia &amp; Jacques</td>\n",
       "      <td>We stayed only a (too) short weekend. It was r...</td>\n",
       "      <td>stay short weekend really nice first experienc...</td>\n",
       "      <td>NaN</td>\n",
       "    </tr>\n",
       "    <tr>\n",
       "      <th>1006</th>\n",
       "      <td>1006</td>\n",
       "      <td>6848</td>\n",
       "      <td>23837</td>\n",
       "      <td>2010-01-11</td>\n",
       "      <td>24256</td>\n",
       "      <td>Rachel</td>\n",
       "      <td>Loved the location and the apartment was clean...</td>\n",
       "      <td>love location apartment clean tidy perfect siz...</td>\n",
       "      <td>NaN</td>\n",
       "    </tr>\n",
       "    <tr>\n",
       "      <th>1007</th>\n",
       "      <td>1007</td>\n",
       "      <td>6848</td>\n",
       "      <td>26620</td>\n",
       "      <td>2010-02-17</td>\n",
       "      <td>65178</td>\n",
       "      <td>Jeanine</td>\n",
       "      <td>We had a great stay. We accidentally arrived a...</td>\n",
       "      <td>great stay accidentally arrive little early ir...</td>\n",
       "      <td>NaN</td>\n",
       "    </tr>\n",
       "  </tbody>\n",
       "</table>\n",
       "<p>1000 rows × 9 columns</p>\n",
       "</div>"
      ],
      "text/plain": [
       "      Unnamed: 0  listing_id         id       date  reviewer_id  \\\n",
       "0              0        2539   55688172 2015-12-04     25160947   \n",
       "1              1        2539   97474898 2016-08-27     91513326   \n",
       "2              2        2539  105340344 2016-10-01     90022459   \n",
       "3              3        2539  133131670 2017-02-20    116165195   \n",
       "5              5        2539  157777930 2017-06-04      1806142   \n",
       "...          ...         ...        ...        ...          ...   \n",
       "1003        1003        6848      12717 2009-10-07        30985   \n",
       "1004        1004        6848      19080 2009-12-04        46832   \n",
       "1005        1005        6848      19286 2009-12-06        44462   \n",
       "1006        1006        6848      23837 2010-01-11        24256   \n",
       "1007        1007        6848      26620 2010-02-17        65178   \n",
       "\n",
       "        reviewer_name                                           comments  \\\n",
       "0               Peter                                        Great host    \n",
       "1                 Liz  Nice room for the price. Great neighborhood. J...   \n",
       "2      Ð•Ð²Ð³ÐµÐ½Ð¸Ð¹                     Very nice apt.  New remodeled.   \n",
       "3              George  Great place to stay for a while. John is a gre...   \n",
       "5               Isaac  I really enjoyed my time here in deep south Br...   \n",
       "...               ...                                                ...   \n",
       "1003             Eyal  We stayed 3 nights with our two kids (13 and 1...   \n",
       "1004         Stephane  Un appartement Ã  5 minutes du metro et seulem...   \n",
       "1005  Lydia & Jacques  We stayed only a (too) short weekend. It was r...   \n",
       "1006           Rachel  Loved the location and the apartment was clean...   \n",
       "1007          Jeanine  We had a great stay. We accidentally arrived a...   \n",
       "\n",
       "                                         comments_clean detected_language  \n",
       "0                                            great host                en  \n",
       "1     nice room price great neighborhood john accomm...                en  \n",
       "2                             very nice apt new remodel                en  \n",
       "3     great place stay john great host great man hou...                en  \n",
       "5     i really enjoyed time deep south brooklyn john...                en  \n",
       "...                                                 ...               ...  \n",
       "1003      stay night kid place warm comfort irina allen               NaN  \n",
       "1004  un appartement ã minute du metro seulement ã d...               NaN  \n",
       "1005  stay short weekend really nice first experienc...               NaN  \n",
       "1006  love location apartment clean tidy perfect siz...               NaN  \n",
       "1007  great stay accidentally arrive little early ir...               NaN  \n",
       "\n",
       "[1000 rows x 9 columns]"
      ]
     },
     "execution_count": 26,
     "metadata": {},
     "output_type": "execute_result"
    }
   ],
   "source": [
    "reviews_1000"
   ]
  },
  {
   "cell_type": "code",
   "execution_count": 23,
   "metadata": {
    "collapsed": false,
    "jupyter": {
     "outputs_hidden": false
    }
   },
   "outputs": [
    {
     "name": "stdout",
     "output_type": "stream",
     "text": [
      "Wall time: 0 ns\n"
     ]
    }
   ],
   "source": [
    "%%time\n",
    "#df['translation'] = df['comments_clean'].apply(lambda review : translate(review) if (df['detected_language'] != 'en') else review)"
   ]
  },
  {
   "cell_type": "code",
   "execution_count": 24,
   "metadata": {
    "collapsed": false,
    "jupyter": {
     "outputs_hidden": false
    }
   },
   "outputs": [
    {
     "ename": "KeyError",
     "evalue": "\"['detected_language'] not in index\"",
     "output_type": "error",
     "traceback": [
      "\u001b[1;31m---------------------------------------------------------------------------\u001b[0m",
      "\u001b[1;31mKeyError\u001b[0m                                  Traceback (most recent call last)",
      "\u001b[1;32m~\\AppData\\Local\\Temp\\ipykernel_3212\\3170658779.py\u001b[0m in \u001b[0;36m<module>\u001b[1;34m\u001b[0m\n\u001b[1;32m----> 1\u001b[1;33m \u001b[0mdf\u001b[0m\u001b[1;33m[\u001b[0m\u001b[1;33m[\u001b[0m\u001b[1;34m'detected_language'\u001b[0m\u001b[1;33m,\u001b[0m \u001b[1;34m'comments_clean'\u001b[0m\u001b[1;33m]\u001b[0m\u001b[1;33m]\u001b[0m\u001b[1;33m[\u001b[0m\u001b[1;33m:\u001b[0m\u001b[1;36m1000\u001b[0m\u001b[1;33m]\u001b[0m\u001b[1;33m\u001b[0m\u001b[1;33m\u001b[0m\u001b[0m\n\u001b[0m",
      "\u001b[1;32m~\\anaconda3\\lib\\site-packages\\pandas\\core\\frame.py\u001b[0m in \u001b[0;36m__getitem__\u001b[1;34m(self, key)\u001b[0m\n\u001b[0;32m   3509\u001b[0m             \u001b[1;32mif\u001b[0m \u001b[0mis_iterator\u001b[0m\u001b[1;33m(\u001b[0m\u001b[0mkey\u001b[0m\u001b[1;33m)\u001b[0m\u001b[1;33m:\u001b[0m\u001b[1;33m\u001b[0m\u001b[1;33m\u001b[0m\u001b[0m\n\u001b[0;32m   3510\u001b[0m                 \u001b[0mkey\u001b[0m \u001b[1;33m=\u001b[0m \u001b[0mlist\u001b[0m\u001b[1;33m(\u001b[0m\u001b[0mkey\u001b[0m\u001b[1;33m)\u001b[0m\u001b[1;33m\u001b[0m\u001b[1;33m\u001b[0m\u001b[0m\n\u001b[1;32m-> 3511\u001b[1;33m             \u001b[0mindexer\u001b[0m \u001b[1;33m=\u001b[0m \u001b[0mself\u001b[0m\u001b[1;33m.\u001b[0m\u001b[0mcolumns\u001b[0m\u001b[1;33m.\u001b[0m\u001b[0m_get_indexer_strict\u001b[0m\u001b[1;33m(\u001b[0m\u001b[0mkey\u001b[0m\u001b[1;33m,\u001b[0m \u001b[1;34m\"columns\"\u001b[0m\u001b[1;33m)\u001b[0m\u001b[1;33m[\u001b[0m\u001b[1;36m1\u001b[0m\u001b[1;33m]\u001b[0m\u001b[1;33m\u001b[0m\u001b[1;33m\u001b[0m\u001b[0m\n\u001b[0m\u001b[0;32m   3512\u001b[0m \u001b[1;33m\u001b[0m\u001b[0m\n\u001b[0;32m   3513\u001b[0m         \u001b[1;31m# take() does not accept boolean indexers\u001b[0m\u001b[1;33m\u001b[0m\u001b[1;33m\u001b[0m\u001b[1;33m\u001b[0m\u001b[0m\n",
      "\u001b[1;32m~\\anaconda3\\lib\\site-packages\\pandas\\core\\indexes\\base.py\u001b[0m in \u001b[0;36m_get_indexer_strict\u001b[1;34m(self, key, axis_name)\u001b[0m\n\u001b[0;32m   5794\u001b[0m             \u001b[0mkeyarr\u001b[0m\u001b[1;33m,\u001b[0m \u001b[0mindexer\u001b[0m\u001b[1;33m,\u001b[0m \u001b[0mnew_indexer\u001b[0m \u001b[1;33m=\u001b[0m \u001b[0mself\u001b[0m\u001b[1;33m.\u001b[0m\u001b[0m_reindex_non_unique\u001b[0m\u001b[1;33m(\u001b[0m\u001b[0mkeyarr\u001b[0m\u001b[1;33m)\u001b[0m\u001b[1;33m\u001b[0m\u001b[1;33m\u001b[0m\u001b[0m\n\u001b[0;32m   5795\u001b[0m \u001b[1;33m\u001b[0m\u001b[0m\n\u001b[1;32m-> 5796\u001b[1;33m         \u001b[0mself\u001b[0m\u001b[1;33m.\u001b[0m\u001b[0m_raise_if_missing\u001b[0m\u001b[1;33m(\u001b[0m\u001b[0mkeyarr\u001b[0m\u001b[1;33m,\u001b[0m \u001b[0mindexer\u001b[0m\u001b[1;33m,\u001b[0m \u001b[0maxis_name\u001b[0m\u001b[1;33m)\u001b[0m\u001b[1;33m\u001b[0m\u001b[1;33m\u001b[0m\u001b[0m\n\u001b[0m\u001b[0;32m   5797\u001b[0m \u001b[1;33m\u001b[0m\u001b[0m\n\u001b[0;32m   5798\u001b[0m         \u001b[0mkeyarr\u001b[0m \u001b[1;33m=\u001b[0m \u001b[0mself\u001b[0m\u001b[1;33m.\u001b[0m\u001b[0mtake\u001b[0m\u001b[1;33m(\u001b[0m\u001b[0mindexer\u001b[0m\u001b[1;33m)\u001b[0m\u001b[1;33m\u001b[0m\u001b[1;33m\u001b[0m\u001b[0m\n",
      "\u001b[1;32m~\\anaconda3\\lib\\site-packages\\pandas\\core\\indexes\\base.py\u001b[0m in \u001b[0;36m_raise_if_missing\u001b[1;34m(self, key, indexer, axis_name)\u001b[0m\n\u001b[0;32m   5857\u001b[0m \u001b[1;33m\u001b[0m\u001b[0m\n\u001b[0;32m   5858\u001b[0m             \u001b[0mnot_found\u001b[0m \u001b[1;33m=\u001b[0m \u001b[0mlist\u001b[0m\u001b[1;33m(\u001b[0m\u001b[0mensure_index\u001b[0m\u001b[1;33m(\u001b[0m\u001b[0mkey\u001b[0m\u001b[1;33m)\u001b[0m\u001b[1;33m[\u001b[0m\u001b[0mmissing_mask\u001b[0m\u001b[1;33m.\u001b[0m\u001b[0mnonzero\u001b[0m\u001b[1;33m(\u001b[0m\u001b[1;33m)\u001b[0m\u001b[1;33m[\u001b[0m\u001b[1;36m0\u001b[0m\u001b[1;33m]\u001b[0m\u001b[1;33m]\u001b[0m\u001b[1;33m.\u001b[0m\u001b[0munique\u001b[0m\u001b[1;33m(\u001b[0m\u001b[1;33m)\u001b[0m\u001b[1;33m)\u001b[0m\u001b[1;33m\u001b[0m\u001b[1;33m\u001b[0m\u001b[0m\n\u001b[1;32m-> 5859\u001b[1;33m             \u001b[1;32mraise\u001b[0m \u001b[0mKeyError\u001b[0m\u001b[1;33m(\u001b[0m\u001b[1;34mf\"{not_found} not in index\"\u001b[0m\u001b[1;33m)\u001b[0m\u001b[1;33m\u001b[0m\u001b[1;33m\u001b[0m\u001b[0m\n\u001b[0m\u001b[0;32m   5860\u001b[0m \u001b[1;33m\u001b[0m\u001b[0m\n\u001b[0;32m   5861\u001b[0m     \u001b[1;33m@\u001b[0m\u001b[0moverload\u001b[0m\u001b[1;33m\u001b[0m\u001b[1;33m\u001b[0m\u001b[0m\n",
      "\u001b[1;31mKeyError\u001b[0m: \"['detected_language'] not in index\""
     ]
    }
   ],
   "source": [
    "df[['detected_language', 'comments_clean']][:1000]"
   ]
  },
  {
   "cell_type": "code",
   "execution_count": null,
   "metadata": {
    "collapsed": false,
    "jupyter": {
     "outputs_hidden": false
    }
   },
   "outputs": [],
   "source": [
    "df.drop(df.loc[df['detected_language' != 'en']])"
   ]
  }
 ],
 "metadata": {
  "kernelspec": {
   "display_name": "Python 3 (ipykernel)",
   "language": "python",
   "name": "python3"
  },
  "language_info": {
   "codemirror_mode": {
    "name": "ipython",
    "version": 3
   },
   "file_extension": ".py",
   "mimetype": "text/x-python",
   "name": "python",
   "nbconvert_exporter": "python",
   "pygments_lexer": "ipython3",
   "version": "3.8.12"
  },
  "widgets": {
   "application/vnd.jupyter.widget-state+json": {
    "state": {},
    "version_major": 2,
    "version_minor": 0
   }
  }
 },
 "nbformat": 4,
 "nbformat_minor": 4
}
