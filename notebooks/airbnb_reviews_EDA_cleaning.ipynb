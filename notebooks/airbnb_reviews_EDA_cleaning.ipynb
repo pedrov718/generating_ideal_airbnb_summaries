{
  "cells": [
    {
      "cell_type": "code",
      "execution_count": 3,
      "metadata": {
        "collapsed": true,
        "pycharm": {
          "name": "#%%\n"
        },
        "id": "ted9RM7UxMFd"
      },
      "outputs": [],
      "source": [
        "import nltk\n",
        "import pandas as pd\n",
        "import numpy as np\n",
        "import re\n",
        "import string\n",
        "from nltk.tokenize import word_tokenize\n",
        "from nltk.corpus import stopwords\n",
        "import spacy"
      ]
    },
    {
      "cell_type": "code",
      "execution_count": 4,
      "outputs": [
        {
          "output_type": "stream",
          "name": "stdout",
          "text": [
            "airbnb_listings_descriptions.xlsx  airbnb_text_reviews.xlsx  drive  sample_data\n"
          ]
        }
      ],
      "source": [
        "!ls"
      ],
      "metadata": {
        "pycharm": {
          "name": "#%%\n"
        },
        "id": "q4LUmGmgxMFh",
        "outputId": "977a5421-f4ae-4c58-ef0c-8f06f64dbed1",
        "colab": {
          "base_uri": "https://localhost:8080/"
        }
      }
    },
    {
      "cell_type": "code",
      "execution_count": null,
      "outputs": [],
      "source": [
        "reviews = pd.read_excel('/content/airbnb_text_reviews.xlsx')"
      ],
      "metadata": {
        "pycharm": {
          "name": "#%%\n"
        },
        "id": "oUBBUgFWxMFi"
      }
    },
    {
      "cell_type": "code",
      "execution_count": null,
      "outputs": [],
      "source": [
        "reviews.sample(1)"
      ],
      "metadata": {
        "pycharm": {
          "name": "#%%\n"
        },
        "id": "OpR5Gx5FxMFi"
      }
    },
    {
      "cell_type": "code",
      "execution_count": null,
      "outputs": [],
      "source": [
        "reviews.sample(3)"
      ],
      "metadata": {
        "pycharm": {
          "name": "#%%\n"
        },
        "id": "BM7u-JZbxMFi"
      }
    },
    {
      "cell_type": "code",
      "execution_count": null,
      "outputs": [],
      "source": [
        "reviews['comments'] = reviews['comments'].astype('string')"
      ],
      "metadata": {
        "pycharm": {
          "name": "#%%\n"
        },
        "id": "432aZSkJxMFj"
      }
    },
    {
      "cell_type": "code",
      "execution_count": null,
      "outputs": [],
      "source": [
        "reviews['comments'].describe()"
      ],
      "metadata": {
        "pycharm": {
          "name": "#%%\n"
        },
        "id": "NeDqZ5RcxMFj"
      }
    },
    {
      "cell_type": "markdown",
      "source": [
        "## removing rows with only punctuation"
      ],
      "metadata": {
        "collapsed": false,
        "pycharm": {
          "name": "#%% md\n"
        },
        "id": "O4MhjbspxMFj"
      }
    },
    {
      "cell_type": "code",
      "execution_count": null,
      "outputs": [],
      "source": [
        "import re, string\n",
        "\n",
        "pattern = re.compile(\"[\\d{}]+$\".format(re.escape(string.punctuation)))\n",
        "\n",
        "x = ['12,523', '3.46', \"this is not\", \"foo bar 42\", \"23fa\"]\n",
        "\n",
        "[t for t in doc.tokens if not pattern.match(t)]"
      ],
      "metadata": {
        "pycharm": {
          "name": "#%%\n"
        },
        "id": "nkFHy-VuxMFl"
      }
    },
    {
      "cell_type": "code",
      "execution_count": null,
      "outputs": [],
      "source": [
        "reviews.loc[(reviews['comments'] == '.') | (reviews['comments'] == '!') | (reviews['comments'] == '?') ]"
      ],
      "metadata": {
        "pycharm": {
          "name": "#%%\n"
        },
        "id": "U9afeIf8xMFm"
      }
    },
    {
      "cell_type": "markdown",
      "source": [
        "## Lets start actually cleaning our data"
      ],
      "metadata": {
        "collapsed": false,
        "pycharm": {
          "name": "#%% md\n"
        },
        "id": "riWRwyKExMFn"
      }
    },
    {
      "cell_type": "code",
      "execution_count": null,
      "outputs": [],
      "source": [
        "reviews['comments'].dropna(inplace = True)"
      ],
      "metadata": {
        "pycharm": {
          "name": "#%%\n"
        },
        "id": "GOl81mzpxMFn"
      }
    },
    {
      "cell_type": "code",
      "execution_count": null,
      "outputs": [],
      "source": [
        "review_list = reviews['comments'].to_list()\n",
        "review_list[0]"
      ],
      "metadata": {
        "pycharm": {
          "name": "#%%\n"
        },
        "id": "k5X-n8JZxMFo"
      }
    },
    {
      "cell_type": "code",
      "source": [
        "for index, string in enumerate(review_list):\n",
        "  if type(string) != type('example'):\n",
        "    review_list[index] = \"\""
      ],
      "metadata": {
        "id": "gIwmaC6z0Pbk"
      },
      "execution_count": null,
      "outputs": []
    },
    {
      "cell_type": "code",
      "execution_count": null,
      "outputs": [],
      "source": [
        "review_string = ' '.join(review_list)\n",
        "review_string[:100]"
      ],
      "metadata": {
        "pycharm": {
          "name": "#%%\n"
        },
        "id": "AO2lcWHJxMFo"
      }
    },
    {
      "cell_type": "code",
      "source": [
        "split_text = [review_string[i:i+800000] for i in range(0, len(review_string), 800000)]"
      ],
      "metadata": {
        "id": "Whaf0bn25zVH"
      },
      "execution_count": null,
      "outputs": []
    },
    {
      "cell_type": "code",
      "source": [
        "# Initialize spacy 'en_core_web_sm' model, keeping only tagger component needed for lemmatization\n",
        "\n",
        "nlp = spacy.load(\"en_core_web_sm\", disable=['parser', 'ner'])\n",
        "\n",
        "docs = []\n",
        "for piece in split_text:\n",
        "    doc = nlp(piece)\n",
        "    docs.append(doc)\n",
        "    \n",
        "merged = Doc.from_docs(docs)"
      ],
      "metadata": {
        "id": "Vy97aqdr53DT"
      },
      "execution_count": null,
      "outputs": []
    },
    {
      "cell_type": "code",
      "execution_count": null,
      "outputs": [],
      "source": [
        "# Extract the lemma for each token and join\n",
        "lemmatized_corpus = \" \".join([token.lemma_.lower() for token in doc if not (token.is_punct or pattern.match(token.text))])\n",
        "\n",
        "lemmatized_corpus_list = lemmatized_corpus.split(sep = \"\")"
      ],
      "metadata": {
        "pycharm": {
          "name": "#%%\n"
        },
        "id": "SFO-tx-axMFo"
      }
    },
    {
      "cell_type": "code",
      "execution_count": null,
      "outputs": [],
      "source": [
        "len(lemmatized_corpus)\n",
        "\n",
        "lemmatized_corpus_list"
      ],
      "metadata": {
        "pycharm": {
          "name": "#%%\n"
        },
        "id": "LV8Z8qSSxMFp"
      }
    },
    {
      "cell_type": "markdown",
      "source": [
        "## Time to clean our text"
      ],
      "metadata": {
        "collapsed": false,
        "pycharm": {
          "name": "#%% md\n"
        },
        "id": "wLe8aCGFxMFp"
      }
    },
    {
      "cell_type": "code",
      "execution_count": null,
      "outputs": [],
      "source": [
        "reviews_1000 = reviews.head(1000)\n",
        "\n",
        "reviews_1000['cleaned_tokens'] = lemmatized_corpus_list"
      ],
      "metadata": {
        "pycharm": {
          "name": "#%%\n"
        },
        "id": "cZ-r98pbxMFp"
      }
    }
  ],
  "metadata": {
    "kernelspec": {
      "display_name": "Python 3",
      "language": "python",
      "name": "python3"
    },
    "language_info": {
      "codemirror_mode": {
        "name": "ipython",
        "version": 2
      },
      "file_extension": ".py",
      "mimetype": "text/x-python",
      "name": "python",
      "nbconvert_exporter": "python",
      "pygments_lexer": "ipython2",
      "version": "2.7.6"
    },
    "colab": {
      "provenance": []
    }
  },
  "nbformat": 4,
  "nbformat_minor": 0
}