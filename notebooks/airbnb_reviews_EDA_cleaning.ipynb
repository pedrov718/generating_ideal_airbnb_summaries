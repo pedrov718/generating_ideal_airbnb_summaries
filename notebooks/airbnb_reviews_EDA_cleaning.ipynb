{
 "cells": [
  {
   "cell_type": "code",
   "execution_count": null,
   "outputs": [],
   "source": [],
   "metadata": {
    "collapsed": false
   }
  },
  {
   "cell_type": "code",
   "execution_count": 75,
   "metadata": {
    "collapsed": true,
    "id": "ted9RM7UxMFd"
   },
   "outputs": [],
   "source": [
    "import nltk\n",
    "import pandas as pd\n",
    "import numpy as np\n",
    "import spacy\n",
    "import re\n",
    "from string import punctuation"
   ]
  },
  {
   "cell_type": "code",
   "execution_count": 2,
   "outputs": [],
   "source": [
    "reviews = pd.read_excel('../data/airbnb_text_reviews.xlsx')"
   ],
   "metadata": {
    "id": "oUBBUgFWxMFi"
   }
  },
  {
   "cell_type": "code",
   "execution_count": 3,
   "outputs": [
    {
     "data": {
      "text/plain": "        listing_id        id       date  reviewer_id reviewer_name  \\\n112515     1370405  21147209 2014-10-12     21057777         Andre   \n\n                                                 comments  \n112515  Excellent value for money! Christa and Zach we...  ",
      "text/html": "<div>\n<style scoped>\n    .dataframe tbody tr th:only-of-type {\n        vertical-align: middle;\n    }\n\n    .dataframe tbody tr th {\n        vertical-align: top;\n    }\n\n    .dataframe thead th {\n        text-align: right;\n    }\n</style>\n<table border=\"1\" class=\"dataframe\">\n  <thead>\n    <tr style=\"text-align: right;\">\n      <th></th>\n      <th>listing_id</th>\n      <th>id</th>\n      <th>date</th>\n      <th>reviewer_id</th>\n      <th>reviewer_name</th>\n      <th>comments</th>\n    </tr>\n  </thead>\n  <tbody>\n    <tr>\n      <th>112515</th>\n      <td>1370405</td>\n      <td>21147209</td>\n      <td>2014-10-12</td>\n      <td>21057777</td>\n      <td>Andre</td>\n      <td>Excellent value for money! Christa and Zach we...</td>\n    </tr>\n  </tbody>\n</table>\n</div>"
     },
     "execution_count": 3,
     "metadata": {},
     "output_type": "execute_result"
    }
   ],
   "source": [
    "reviews.sample(1)"
   ],
   "metadata": {
    "colab": {
     "base_uri": "https://localhost:8080/",
     "height": 81
    },
    "id": "OpR5Gx5FxMFi",
    "outputId": "5de2dad2-4bd4-49c2-8ef6-1618051f940b"
   }
  },
  {
   "cell_type": "code",
   "execution_count": 4,
   "outputs": [
    {
     "data": {
      "text/plain": "         listing_id                  id       date  reviewer_id reviewer_name  \\\n359415     11775483           505044601 2019-08-08      2743522     Alexandra   \n341417     10482409           183225312 2017-08-16    138653197        Elijah   \n1027629    54221901  582576044744759040 2022-03-14    167799886         James   \n\n                                                  comments  \n359415   Anthony was very responsive and helpful to me ...  \n341417   Perfect place to stay on a budget in the middl...  \n1027629                   Spacious, clean, great location.  ",
      "text/html": "<div>\n<style scoped>\n    .dataframe tbody tr th:only-of-type {\n        vertical-align: middle;\n    }\n\n    .dataframe tbody tr th {\n        vertical-align: top;\n    }\n\n    .dataframe thead th {\n        text-align: right;\n    }\n</style>\n<table border=\"1\" class=\"dataframe\">\n  <thead>\n    <tr style=\"text-align: right;\">\n      <th></th>\n      <th>listing_id</th>\n      <th>id</th>\n      <th>date</th>\n      <th>reviewer_id</th>\n      <th>reviewer_name</th>\n      <th>comments</th>\n    </tr>\n  </thead>\n  <tbody>\n    <tr>\n      <th>359415</th>\n      <td>11775483</td>\n      <td>505044601</td>\n      <td>2019-08-08</td>\n      <td>2743522</td>\n      <td>Alexandra</td>\n      <td>Anthony was very responsive and helpful to me ...</td>\n    </tr>\n    <tr>\n      <th>341417</th>\n      <td>10482409</td>\n      <td>183225312</td>\n      <td>2017-08-16</td>\n      <td>138653197</td>\n      <td>Elijah</td>\n      <td>Perfect place to stay on a budget in the middl...</td>\n    </tr>\n    <tr>\n      <th>1027629</th>\n      <td>54221901</td>\n      <td>582576044744759040</td>\n      <td>2022-03-14</td>\n      <td>167799886</td>\n      <td>James</td>\n      <td>Spacious, clean, great location.</td>\n    </tr>\n  </tbody>\n</table>\n</div>"
     },
     "execution_count": 4,
     "metadata": {},
     "output_type": "execute_result"
    }
   ],
   "source": [
    "reviews.sample(3)"
   ],
   "metadata": {
    "colab": {
     "base_uri": "https://localhost:8080/",
     "height": 143
    },
    "id": "BM7u-JZbxMFi",
    "outputId": "30e932d8-1089-4a1e-d8f3-cf0f6bd67f2f"
   }
  },
  {
   "cell_type": "code",
   "execution_count": 5,
   "outputs": [],
   "source": [
    "reviews['comments'] = reviews['comments'].astype('string')"
   ],
   "metadata": {
    "id": "432aZSkJxMFj"
   }
  },
  {
   "cell_type": "code",
   "execution_count": 6,
   "outputs": [
    {
     "data": {
      "text/plain": "count         1048358\nunique        1000410\ntop       Great place\nfreq             1366\nName: comments, dtype: object"
     },
     "execution_count": 6,
     "metadata": {},
     "output_type": "execute_result"
    }
   ],
   "source": [
    "reviews['comments'].describe()"
   ],
   "metadata": {
    "colab": {
     "base_uri": "https://localhost:8080/"
    },
    "id": "NeDqZ5RcxMFj",
    "outputId": "6ab8b404-0929-4b36-b9a3-c33f7e363bd5"
   }
  },
  {
   "cell_type": "markdown",
   "source": [
    "## Cleaning text with NLTK"
   ],
   "metadata": {
    "collapsed": false,
    "id": "O4MhjbspxMFj"
   }
  },
  {
   "cell_type": "markdown",
   "source": [
    "### Note some of the reviews are empty except contain only punctuation"
   ],
   "metadata": {
    "collapsed": false
   }
  },
  {
   "cell_type": "code",
   "execution_count": 49,
   "outputs": [
    {
     "data": {
      "text/plain": "      listing_id                  id       date  reviewer_id  \\\n609         5178  458595941119654016 2021-09-24    409836786   \n8075       27644  503596934129974976 2021-11-25     38781491   \n9103       31994           180524495 2017-08-10     98704132   \n9106       31994           194910000 2017-09-17     99756545   \n9159       31994           366953207 2019-01-03    213464080   \n\n         reviewer_name comments  \n609               Elya        .  \n8075               Jay        .  \n9103  Martin (Aka Max)        .  \n9106           Vardhan        .  \n9159            Glenda        .  ",
      "text/html": "<div>\n<style scoped>\n    .dataframe tbody tr th:only-of-type {\n        vertical-align: middle;\n    }\n\n    .dataframe tbody tr th {\n        vertical-align: top;\n    }\n\n    .dataframe thead th {\n        text-align: right;\n    }\n</style>\n<table border=\"1\" class=\"dataframe\">\n  <thead>\n    <tr style=\"text-align: right;\">\n      <th></th>\n      <th>listing_id</th>\n      <th>id</th>\n      <th>date</th>\n      <th>reviewer_id</th>\n      <th>reviewer_name</th>\n      <th>comments</th>\n    </tr>\n  </thead>\n  <tbody>\n    <tr>\n      <th>609</th>\n      <td>5178</td>\n      <td>458595941119654016</td>\n      <td>2021-09-24</td>\n      <td>409836786</td>\n      <td>Elya</td>\n      <td>.</td>\n    </tr>\n    <tr>\n      <th>8075</th>\n      <td>27644</td>\n      <td>503596934129974976</td>\n      <td>2021-11-25</td>\n      <td>38781491</td>\n      <td>Jay</td>\n      <td>.</td>\n    </tr>\n    <tr>\n      <th>9103</th>\n      <td>31994</td>\n      <td>180524495</td>\n      <td>2017-08-10</td>\n      <td>98704132</td>\n      <td>Martin (Aka Max)</td>\n      <td>.</td>\n    </tr>\n    <tr>\n      <th>9106</th>\n      <td>31994</td>\n      <td>194910000</td>\n      <td>2017-09-17</td>\n      <td>99756545</td>\n      <td>Vardhan</td>\n      <td>.</td>\n    </tr>\n    <tr>\n      <th>9159</th>\n      <td>31994</td>\n      <td>366953207</td>\n      <td>2019-01-03</td>\n      <td>213464080</td>\n      <td>Glenda</td>\n      <td>.</td>\n    </tr>\n  </tbody>\n</table>\n</div>"
     },
     "execution_count": 49,
     "metadata": {},
     "output_type": "execute_result"
    }
   ],
   "source": [
    "reviews.loc[(reviews['comments'] == '.') | (reviews['comments'] == '!') | (reviews['comments'] == '?') ][:5]"
   ],
   "metadata": {
    "colab": {
     "base_uri": "https://localhost:8080/",
     "height": 424
    },
    "id": "U9afeIf8xMFm",
    "outputId": "b3d858cb-1b43-4ca4-ab69-c6cc737d3e05"
   }
  },
  {
   "cell_type": "markdown",
   "source": [
    "### Dealing with NANs in our dataframe"
   ],
   "metadata": {
    "collapsed": false
   }
  },
  {
   "cell_type": "code",
   "execution_count": 84,
   "outputs": [
    {
     "data": {
      "text/plain": "(1048575,)"
     },
     "execution_count": 84,
     "metadata": {},
     "output_type": "execute_result"
    }
   ],
   "source": [
    "for index, string in enumerate(reviews['comments']):\n",
    "  if type(string) != type('example'):\n",
    "      reviews['comments'][index] = \"\"\n",
    "reviews['comments'].shape"
   ],
   "metadata": {
    "collapsed": false
   }
  },
  {
   "cell_type": "code",
   "execution_count": 82,
   "outputs": [],
   "source": [
    "# def remove_punctuation_and_digits(text):\n",
    "#     \"\"\"Remove repeated punctuation in strings\"\"\"\n",
    "#     pattern = re.compile(\"[\\d{}]+$\".format(re.escape(punctuation)))\n",
    "#     text =  [item for item in text if not pattern.match(item)]\n",
    "#     return text\n",
    "# reviews['comments2'] = reviews['comments'].apply(lambda x: remove_punctuation_and_digits(x))"
   ],
   "metadata": {
    "collapsed": false
   }
  },
  {
   "cell_type": "markdown",
   "source": [
    "## Defining a custom class for cleaning text data"
   ],
   "metadata": {
    "collapsed": false
   }
  },
  {
   "cell_type": "code",
   "execution_count": 85,
   "outputs": [],
   "source": [
    "# importing text preprocessing libraries\n",
    "import nltk\n",
    "from nltk.tokenize import word_tokenize\n",
    "from nltk import pos_tag\n",
    "from nltk.corpus import stopwords, wordnet\n",
    "from nltk.stem import WordNetLemmatizer\n",
    "\n",
    "# integrating our preprocessing into a pipeline\n",
    "from sklearn.base import BaseEstimator, TransformerMixin\n",
    "from sklearn.pipeline import Pipeline"
   ],
   "metadata": {
    "collapsed": false
   }
  },
  {
   "cell_type": "code",
   "execution_count": 133,
   "outputs": [],
   "source": [
    "class TextPreprocessor(BaseEstimator, TransformerMixin):\n",
    "\n",
    "    def __init__(self, lemmatize):\n",
    "        self.lemmatize = lemmatize\n",
    "        #define attributes to store if text preprocessing requires fitting from data\n",
    "        pass\n",
    "\n",
    "    def fit(self, data, y = 0):\n",
    "        # this is where you would fit things like corpus specific stopwords\n",
    "        # fit probable bigrams with bigram model in here\n",
    "\n",
    "        # save as parameters of Text preprocessor\n",
    "\n",
    "        return self\n",
    "\n",
    "    def transform(self, data, y = 0):\n",
    "        fully_normalized_corpus = data.apply(self.process_doc)\n",
    "\n",
    "        return fully_normalized_corpus\n",
    "\n",
    "\n",
    "    def process_doc(self, doc, lemmatize = 'nltk'):\n",
    "\n",
    "        if lemmatize == 'nltk':\n",
    "            #initialize lemmatizer\n",
    "            wnl = WordNetLemmatizer()\n",
    "            stop_words = stopwords.words('english')\n",
    "\n",
    "            # helper function to change nltk's part of speech tagging to a wordnet format.\n",
    "            def pos_tagger(nltk_tag):\n",
    "                if nltk_tag.startswith('J'):\n",
    "                    return wordnet.ADJ\n",
    "                elif nltk_tag.startswith('V'):\n",
    "                    return wordnet.VERB\n",
    "                elif nltk_tag.startswith('N'):\n",
    "                    return wordnet.NOUN\n",
    "                elif nltk_tag.startswith('R'):\n",
    "                    return wordnet.ADV\n",
    "                else:\n",
    "                    return None\n",
    "            # remove stop words and punctuations, then lower case\n",
    "            doc_norm = [tok.lower() for tok in word_tokenize(doc) if ((tok.isalpha()) & (tok not in stop_words))]\n",
    "\n",
    "            #  POS detection on the result will be important in telling Wordnet's lemmatizer how to lemmatize\n",
    "\n",
    "            # creates list of tuples with tokens and POS tags in wordnet format\n",
    "            wordnet_tagged = list(map(lambda x: (x[0], pos_tagger(x[1])), pos_tag(doc_norm)))\n",
    "            doc_norm = [wnl.lemmatize(token, pos) for token, pos in wordnet_tagged if pos is not None]\n",
    "\n",
    "        else:\n",
    "            # remove stop words and punctuations, then lower case\n",
    "            doc_norm = [tok.lower() for tok in word_tokenize(doc) if ((tok.isalpha()) & (tok not in stop_words))]\n",
    "\n",
    "        return \" \".join(doc_norm)"
   ],
   "metadata": {
    "collapsed": false
   }
  },
  {
   "cell_type": "code",
   "execution_count": 134,
   "outputs": [],
   "source": [
    "proc = TextPreprocessor(lemmatize = 'ntlk')\n",
    "\n",
    "reviews['comments_clean'] =  proc.fit_transform(reviews['comments'])"
   ],
   "metadata": {
    "collapsed": false
   }
  },
  {
   "cell_type": "code",
   "execution_count": 135,
   "outputs": [
    {
     "data": {
      "text/plain": "0                                                 great host\n1          nice room price great neighborhood john accomm...\n2                                  very nice apt new remodel\n3          great place stay john great host great man hou...\n4                                                           \n                                 ...                        \n1048570    great stay clean wish front door keep open als...\n1048571                                          place great\n1048572                   have great stay clean amenity need\n1048573    nancy great host communicative responsive apar...\n1048574                                 amaze host love stay\nName: comments_clean, Length: 1048575, dtype: object"
     },
     "execution_count": 135,
     "metadata": {},
     "output_type": "execute_result"
    }
   ],
   "source": [
    "reviews['comments_clean']"
   ],
   "metadata": {
    "collapsed": false
   }
  },
  {
   "cell_type": "code",
   "execution_count": 137,
   "outputs": [],
   "source": [
    "#reviews.to_excel('text_reviews_processed.xlsx')"
   ],
   "metadata": {
    "collapsed": false
   }
  }
 ],
 "metadata": {
  "kernelspec": {
   "display_name": "Python 3",
   "language": "python",
   "name": "python3"
  },
  "language_info": {
   "codemirror_mode": {
    "name": "ipython",
    "version": 2
   },
   "file_extension": ".py",
   "mimetype": "text/x-python",
   "name": "python",
   "nbconvert_exporter": "python",
   "pygments_lexer": "ipython2",
   "version": "2.7.6"
  },
  "colab": {
   "provenance": []
  }
 },
 "nbformat": 4,
 "nbformat_minor": 0
}
